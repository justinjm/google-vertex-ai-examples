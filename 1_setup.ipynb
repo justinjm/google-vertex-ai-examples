{
 "cells": [
  {
   "cell_type": "markdown",
   "id": "f266c52a-15b9-46bc-851e-6cc3cb1eb33a",
   "metadata": {},
   "source": [
    "# 1 - Setup Environment "
   ]
  },
  {
   "cell_type": "markdown",
   "id": "31359b60-6c0b-4807-8d75-f9dfe9b926be",
   "metadata": {},
   "source": [
    "This notebook will guide you through setting up a Google Cloud Platform environment."
   ]
  },
  {
   "cell_type": "code",
   "execution_count": 14,
   "id": "02cb4497-79cb-40cb-9979-3bd2ac394121",
   "metadata": {},
   "outputs": [],
   "source": [
    "REGION = 'us-central1'\n",
    "PROJECT_ID = 'demos-vertex-ai'\n",
    "DATANAME = 'propensity'\n",
    "\n",
    "BQ_SOURCE = 'bigquery-public-data.google_analytics_sample'"
   ]
  },
  {
   "cell_type": "markdown",
   "id": "fca93e66-66bc-4187-ace1-5d9dfacb1bd1",
   "metadata": {},
   "source": [
    "## Setup\n",
    "inputs:"
   ]
  },
  {
   "cell_type": "code",
   "execution_count": 15,
   "id": "09cc9099-5d6c-4ba7-a072-e553b5661444",
   "metadata": {},
   "outputs": [],
   "source": [
    "from google.cloud import storage\n",
    "from google.cloud import bigquery\n",
    "\n",
    "import pandas as pd\n",
    "from sklearn import datasets"
   ]
  },
  {
   "cell_type": "markdown",
   "id": "b630c66b-d8c3-4eec-9bec-8433a4675bda",
   "metadata": {},
   "source": [
    "parameters:"
   ]
  },
  {
   "cell_type": "code",
   "execution_count": 16,
   "id": "5bc84c4d-9330-4f64-9e1e-47f275222134",
   "metadata": {},
   "outputs": [],
   "source": [
    "BUCKET = PROJECT_ID"
   ]
  },
  {
   "cell_type": "markdown",
   "id": "2c2b960f-deaf-46f1-a273-d38e71f09b33",
   "metadata": {},
   "source": [
    "## Create Storage Bucket"
   ]
  },
  {
   "cell_type": "code",
   "execution_count": 17,
   "id": "82afc5c2-005b-4e8c-a076-c2362ce03eff",
   "metadata": {},
   "outputs": [],
   "source": [
    "gcs = storage.Client(project = PROJECT_ID)"
   ]
  },
  {
   "cell_type": "code",
   "execution_count": 18,
   "id": "fe5c9507-e7da-4158-a15e-df03d02206b9",
   "metadata": {},
   "outputs": [
    {
     "name": "stdout",
     "output_type": "stream",
     "text": [
      "<Bucket: demos-vertex-ai>\n"
     ]
    }
   ],
   "source": [
    "if not gcs.lookup_bucket(BUCKET):\n",
    "    bucketDef = gcs.bucket(BUCKET)\n",
    "    bucket = gcs.create_bucket(bucketDef, project=PROJECT_ID, location=REGION)\n",
    "    print(bucket)\n",
    "else:\n",
    "    print(gcs.lookup_bucket(BUCKET))"
   ]
  },
  {
   "cell_type": "markdown",
   "id": "c8a374ff-6b39-4bc5-a3eb-f3ef700e1f28",
   "metadata": {},
   "source": [
    "## Store data in Storage Bucket\n",
    "\n",
    "* export from bigquery table to GCS bucket as CSV (the table is referenced in the BQ_SOURCE variable at the top of this notebook)\n",
    "* More details here: [Exporting table data  |  BigQuery  |  Google Cloud](https://cloud.google.com/bigquery/docs/exporting-data#python)"
   ]
  },
  {
   "cell_type": "code",
   "execution_count": 19,
   "id": "b42ad6f6-17d9-44c4-ba05-92ea695f0303",
   "metadata": {},
   "outputs": [
    {
     "ename": "ValueError",
     "evalue": "When default_project is not set, table_id must be a fully-qualified ID in standard SQL format, e.g., \"project.dataset_id.table_id\", got bigquery-public-data.google_analytics_sample",
     "output_type": "error",
     "traceback": [
      "\u001b[0;31m---------------------------------------------------------------------------\u001b[0m",
      "\u001b[0;31mValueError\u001b[0m                                Traceback (most recent call last)",
      "\u001b[0;32m/tmp/ipykernel_1/4057496857.py\u001b[0m in \u001b[0;36m<module>\u001b[0;34m\u001b[0m\n\u001b[1;32m      1\u001b[0m \u001b[0mbq\u001b[0m \u001b[0;34m=\u001b[0m \u001b[0mbigquery\u001b[0m\u001b[0;34m.\u001b[0m\u001b[0mClient\u001b[0m\u001b[0;34m(\u001b[0m\u001b[0mproject\u001b[0m \u001b[0;34m=\u001b[0m \u001b[0mPROJECT_ID\u001b[0m\u001b[0;34m)\u001b[0m\u001b[0;34m\u001b[0m\u001b[0;34m\u001b[0m\u001b[0m\n\u001b[1;32m      2\u001b[0m \u001b[0mdestination\u001b[0m \u001b[0;34m=\u001b[0m \u001b[0;34mf\"gs://{BUCKET}/{DATANAME}/data/{DATANAME}.csv\"\u001b[0m\u001b[0;34m\u001b[0m\u001b[0;34m\u001b[0m\u001b[0m\n\u001b[0;32m----> 3\u001b[0;31m \u001b[0msource\u001b[0m \u001b[0;34m=\u001b[0m \u001b[0mbigquery\u001b[0m\u001b[0;34m.\u001b[0m\u001b[0mTableReference\u001b[0m\u001b[0;34m.\u001b[0m\u001b[0mfrom_string\u001b[0m\u001b[0;34m(\u001b[0m\u001b[0mBQ_SOURCE\u001b[0m\u001b[0;34m)\u001b[0m\u001b[0;34m\u001b[0m\u001b[0;34m\u001b[0m\u001b[0m\n\u001b[0m\u001b[1;32m      4\u001b[0m \u001b[0mextract\u001b[0m \u001b[0;34m=\u001b[0m \u001b[0mbq\u001b[0m\u001b[0;34m.\u001b[0m\u001b[0mextract_table\u001b[0m\u001b[0;34m(\u001b[0m\u001b[0msource\u001b[0m\u001b[0;34m,\u001b[0m \u001b[0mdestination\u001b[0m\u001b[0;34m)\u001b[0m\u001b[0;34m\u001b[0m\u001b[0;34m\u001b[0m\u001b[0m\n",
      "\u001b[0;32m/opt/conda/lib/python3.7/site-packages/google/cloud/bigquery/table.py\u001b[0m in \u001b[0;36mfrom_string\u001b[0;34m(cls, table_id, default_project)\u001b[0m\n\u001b[1;32m    251\u001b[0m             \u001b[0moutput_table_id\u001b[0m\u001b[0;34m,\u001b[0m\u001b[0;34m\u001b[0m\u001b[0;34m\u001b[0m\u001b[0m\n\u001b[1;32m    252\u001b[0m         \u001b[0;34m)\u001b[0m \u001b[0;34m=\u001b[0m \u001b[0m_helpers\u001b[0m\u001b[0;34m.\u001b[0m\u001b[0m_parse_3_part_id\u001b[0m\u001b[0;34m(\u001b[0m\u001b[0;34m\u001b[0m\u001b[0;34m\u001b[0m\u001b[0m\n\u001b[0;32m--> 253\u001b[0;31m             \u001b[0mtable_id\u001b[0m\u001b[0;34m,\u001b[0m \u001b[0mdefault_project\u001b[0m\u001b[0;34m=\u001b[0m\u001b[0mdefault_project\u001b[0m\u001b[0;34m,\u001b[0m \u001b[0mproperty_name\u001b[0m\u001b[0;34m=\u001b[0m\u001b[0;34m\"table_id\"\u001b[0m\u001b[0;34m\u001b[0m\u001b[0;34m\u001b[0m\u001b[0m\n\u001b[0m\u001b[1;32m    254\u001b[0m         )\n\u001b[1;32m    255\u001b[0m \u001b[0;34m\u001b[0m\u001b[0m\n",
      "\u001b[0;32m/opt/conda/lib/python3.7/site-packages/google/cloud/bigquery/_helpers.py\u001b[0m in \u001b[0;36m_parse_3_part_id\u001b[0;34m(full_id, default_project, property_name)\u001b[0m\n\u001b[1;32m    902\u001b[0m             \u001b[0;34m\"fully-qualified ID in standard SQL format, \"\u001b[0m\u001b[0;34m\u001b[0m\u001b[0;34m\u001b[0m\u001b[0m\n\u001b[1;32m    903\u001b[0m             'e.g., \"project.dataset_id.{property_name}\", got {}'.format(\n\u001b[0;32m--> 904\u001b[0;31m                 \u001b[0mfull_id\u001b[0m\u001b[0;34m,\u001b[0m \u001b[0mproperty_name\u001b[0m\u001b[0;34m=\u001b[0m\u001b[0mproperty_name\u001b[0m\u001b[0;34m\u001b[0m\u001b[0;34m\u001b[0m\u001b[0m\n\u001b[0m\u001b[1;32m    905\u001b[0m             )\n\u001b[1;32m    906\u001b[0m         )\n",
      "\u001b[0;31mValueError\u001b[0m: When default_project is not set, table_id must be a fully-qualified ID in standard SQL format, e.g., \"project.dataset_id.table_id\", got bigquery-public-data.google_analytics_sample"
     ]
    }
   ],
   "source": [
    "bq = bigquery.Client(project = PROJECT_ID)\n",
    "destination = f\"gs://{BUCKET}/{DATANAME}/data/{DATANAME}.csv\"\n",
    "source = bigquery.TableReference.from_string(BQ_SOURCE)\n",
    "extract = bq.extract_table(source, destination)"
   ]
  },
  {
   "cell_type": "code",
   "execution_count": null,
   "id": "78f5466d-1c2f-43d5-8c64-553ae57f6762",
   "metadata": {},
   "outputs": [],
   "source": []
  }
 ],
 "metadata": {
  "environment": {
   "kernel": "python3",
   "name": "managed-notebooks.m90",
   "type": "gcloud",
   "uri": "gcr.io/deeplearning-platform-release/base-cu110:latest"
  },
  "kernelspec": {
   "display_name": "Python (Local)",
   "language": "python",
   "name": "local-base"
  },
  "language_info": {
   "codemirror_mode": {
    "name": "ipython",
    "version": 3
   },
   "file_extension": ".py",
   "mimetype": "text/x-python",
   "name": "python",
   "nbconvert_exporter": "python",
   "pygments_lexer": "ipython3",
   "version": "3.7.12"
  }
 },
 "nbformat": 4,
 "nbformat_minor": 5
}
