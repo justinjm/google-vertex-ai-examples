{
 "cells": [
  {
   "cell_type": "markdown",
   "id": "bdf1621f-2d2a-4662-8843-10bc0783066b",
   "metadata": {},
   "source": [
    "# AutoML Propensity to Purchase with code\n",
    "\n",
    "Use the Vertex AI Python Client to recreate a no-code approach with code (Python). This builds a custom model with AutoML and executes a batch prediction \n"
   ]
  },
  {
   "cell_type": "markdown",
   "id": "cc7025e9-9c09-45fd-b0c9-b37bf2e3ee2c",
   "metadata": {},
   "source": [
    "## Setup\n",
    "Inputs:"
   ]
  },
  {
   "cell_type": "code",
   "execution_count": 20,
   "id": "ff597e66-fab5-4856-a6fb-c21cf40d74d4",
   "metadata": {},
   "outputs": [],
   "source": [
    "PROJECT_ID = 'demos-vertex-ai'\n",
    "REGION = 'us-central1'\n",
    "DATANAME = 'propensity'\n",
    "NOTEBOOK = 'automl-propensity-code'\n",
    "\n",
    "# Resources\n",
    "DEPLOY_COMPUTE = 'n1-standard-4'\n",
    "\n",
    "# Model Training\n",
    "VAR_TARGET = 'will_buy_on_return_visit'\n",
    "VAR_OMIT = 'fullVisitorId' # add more variables to the string with space delimiters"
   ]
  },
  {
   "cell_type": "markdown",
   "id": "08ea72c9-3bf9-406d-9381-41f846c92b55",
   "metadata": {},
   "source": [
    "packages:"
   ]
  },
  {
   "cell_type": "code",
   "execution_count": 21,
   "id": "73e06530-f957-48cb-98b1-7ed78bc8290e",
   "metadata": {},
   "outputs": [],
   "source": [
    "from google.cloud import aiplatform\n",
    "from datetime import datetime\n",
    "\n",
    "from google.cloud import bigquery\n",
    "from google.protobuf import json_format\n",
    "from google.protobuf.struct_pb2 import Value\n",
    "import json\n",
    "import numpy as np"
   ]
  },
  {
   "cell_type": "markdown",
   "id": "3f19fe09-5d3f-4e94-8915-98326f73203b",
   "metadata": {},
   "source": [
    "clients: "
   ]
  },
  {
   "cell_type": "code",
   "execution_count": 22,
   "id": "e3f5f5e9-f095-461e-a2fd-75f47cfd622f",
   "metadata": {},
   "outputs": [],
   "source": [
    "aiplatform.init(project=PROJECT_ID, location=REGION)\n",
    "bq = bigquery.Client(project = PROJECT_ID)"
   ]
  },
  {
   "cell_type": "markdown",
   "id": "1237c0e9-92a6-4c39-aeeb-be11db29310d",
   "metadata": {},
   "source": [
    "parameters:"
   ]
  },
  {
   "cell_type": "code",
   "execution_count": 25,
   "id": "929cad28-53a5-4739-a294-706d68903a31",
   "metadata": {},
   "outputs": [],
   "source": [
    "TIMESTAMP = datetime.now().strftime(\"%Y%m%d%H%M%S\")\n",
    "DIR = f\"temp/{NOTEBOOK}\""
   ]
  },
  {
   "cell_type": "markdown",
   "id": "e8c61054-9bb0-41e0-ab1f-3ee7e96c4dc8",
   "metadata": {},
   "source": [
    "environment:"
   ]
  },
  {
   "cell_type": "code",
   "execution_count": 26,
   "id": "f6846ca0-b003-4628-94e9-d3beba0df86e",
   "metadata": {},
   "outputs": [],
   "source": [
    "!rm -rf {DIR}\n",
    "!mkdir -p {DIR}"
   ]
  },
  {
   "cell_type": "markdown",
   "id": "b339ad78-9ac8-4a1b-92c0-f909cd3db9a7",
   "metadata": {},
   "source": [
    "## Create BigQuery Dataset\n",
    "List BQ datasets in the project first to see"
   ]
  },
  {
   "cell_type": "code",
   "execution_count": 8,
   "id": "5ba6c3ad-12bd-40d6-bb0e-d075b31b29bd",
   "metadata": {},
   "outputs": [
    {
     "data": {
      "text/html": [
       "<div>\n",
       "<style scoped>\n",
       "    .dataframe tbody tr th:only-of-type {\n",
       "        vertical-align: middle;\n",
       "    }\n",
       "\n",
       "    .dataframe tbody tr th {\n",
       "        vertical-align: top;\n",
       "    }\n",
       "\n",
       "    .dataframe thead th {\n",
       "        text-align: right;\n",
       "    }\n",
       "</style>\n",
       "<table border=\"1\" class=\"dataframe\">\n",
       "  <thead>\n",
       "    <tr style=\"text-align: right;\">\n",
       "      <th></th>\n",
       "      <th>schema_name</th>\n",
       "    </tr>\n",
       "  </thead>\n",
       "  <tbody>\n",
       "    <tr>\n",
       "      <th>0</th>\n",
       "      <td>customer_segmentation</td>\n",
       "    </tr>\n",
       "    <tr>\n",
       "      <th>1</th>\n",
       "      <td>bank_marketing</td>\n",
       "    </tr>\n",
       "    <tr>\n",
       "      <th>2</th>\n",
       "      <td>propensity</td>\n",
       "    </tr>\n",
       "    <tr>\n",
       "      <th>3</th>\n",
       "      <td>demo_demandforecasting</td>\n",
       "    </tr>\n",
       "    <tr>\n",
       "      <th>4</th>\n",
       "      <td>propensity_demo</td>\n",
       "    </tr>\n",
       "    <tr>\n",
       "      <th>5</th>\n",
       "      <td>auditlog_dataset</td>\n",
       "    </tr>\n",
       "  </tbody>\n",
       "</table>\n",
       "</div>"
      ],
      "text/plain": [
       "              schema_name\n",
       "0   customer_segmentation\n",
       "1          bank_marketing\n",
       "2              propensity\n",
       "3  demo_demandforecasting\n",
       "4         propensity_demo\n",
       "5        auditlog_dataset"
      ]
     },
     "execution_count": 8,
     "metadata": {},
     "output_type": "execute_result"
    }
   ],
   "source": [
    "query = f\"\"\"\n",
    "SELECT schema_name\n",
    "FROM `{PROJECT_ID}.INFORMATION_SCHEMA.SCHEMATA`\n",
    "\"\"\"\n",
    "bq.query(query = query).to_dataframe()"
   ]
  },
  {
   "cell_type": "markdown",
   "id": "74ae3b1c-c6c9-4bc9-a308-06669f4e433b",
   "metadata": {},
   "source": [
    "Create dataset if missing"
   ]
  },
  {
   "cell_type": "code",
   "execution_count": 9,
   "id": "e4b77366-16a0-4093-b51b-6c4a0d63c511",
   "metadata": {},
   "outputs": [
    {
     "data": {
      "text/plain": [
       "<google.cloud.bigquery.table._EmptyRowIterator at 0x7fdd878caa10>"
      ]
     },
     "execution_count": 9,
     "metadata": {},
     "output_type": "execute_result"
    }
   ],
   "source": [
    "query = f\"\"\"\n",
    "CREATE SCHEMA IF NOT EXISTS `{PROJECT_ID}.{DATANAME}`\n",
    "OPTIONS(\n",
    "    location = 'US',\n",
    "    labels = [('notebook','{NOTEBOOK}')]\n",
    ")\n",
    "\"\"\"\n",
    "job = bq.query(query = query)\n",
    "job.result()"
   ]
  },
  {
   "cell_type": "code",
   "execution_count": 10,
   "id": "11980a1c-913a-4fd8-939c-7df3d8d4879a",
   "metadata": {},
   "outputs": [
    {
     "data": {
      "text/plain": [
       "0.104"
      ]
     },
     "execution_count": 10,
     "metadata": {},
     "output_type": "execute_result"
    }
   ],
   "source": [
    "(job.ended-job.started).total_seconds()"
   ]
  },
  {
   "cell_type": "markdown",
   "id": "bff19c95-6b4f-4f6e-9c84-cbd15a9c6259",
   "metadata": {},
   "source": [
    "list BQ datasets again to confirm creation:"
   ]
  },
  {
   "cell_type": "code",
   "execution_count": 6,
   "id": "15e76d46-a857-4597-a9e0-602eb1e2e506",
   "metadata": {},
   "outputs": [
    {
     "data": {
      "text/html": [
       "<div>\n",
       "<style scoped>\n",
       "    .dataframe tbody tr th:only-of-type {\n",
       "        vertical-align: middle;\n",
       "    }\n",
       "\n",
       "    .dataframe tbody tr th {\n",
       "        vertical-align: top;\n",
       "    }\n",
       "\n",
       "    .dataframe thead th {\n",
       "        text-align: right;\n",
       "    }\n",
       "</style>\n",
       "<table border=\"1\" class=\"dataframe\">\n",
       "  <thead>\n",
       "    <tr style=\"text-align: right;\">\n",
       "      <th></th>\n",
       "      <th>schema_name</th>\n",
       "    </tr>\n",
       "  </thead>\n",
       "  <tbody>\n",
       "    <tr>\n",
       "      <th>0</th>\n",
       "      <td>customer_segmentation</td>\n",
       "    </tr>\n",
       "    <tr>\n",
       "      <th>1</th>\n",
       "      <td>bank_marketing</td>\n",
       "    </tr>\n",
       "    <tr>\n",
       "      <th>2</th>\n",
       "      <td>propensity</td>\n",
       "    </tr>\n",
       "    <tr>\n",
       "      <th>3</th>\n",
       "      <td>demo_demandforecasting</td>\n",
       "    </tr>\n",
       "    <tr>\n",
       "      <th>4</th>\n",
       "      <td>propensity_demo</td>\n",
       "    </tr>\n",
       "    <tr>\n",
       "      <th>5</th>\n",
       "      <td>auditlog_dataset</td>\n",
       "    </tr>\n",
       "  </tbody>\n",
       "</table>\n",
       "</div>"
      ],
      "text/plain": [
       "              schema_name\n",
       "0   customer_segmentation\n",
       "1          bank_marketing\n",
       "2              propensity\n",
       "3  demo_demandforecasting\n",
       "4         propensity_demo\n",
       "5        auditlog_dataset"
      ]
     },
     "execution_count": 6,
     "metadata": {},
     "output_type": "execute_result"
    }
   ],
   "source": [
    "query = f\"\"\"\n",
    "SELECT schema_name\n",
    "FROM `{PROJECT_ID}.INFORMATION_SCHEMA.SCHEMATA`\n",
    "\"\"\"\n",
    "bq.query(query = query).to_dataframe()"
   ]
  },
  {
   "cell_type": "markdown",
   "id": "aae98149-6d16-4b57-b814-ecb404fd60cc",
   "metadata": {},
   "source": [
    "## Create BigQuery Table "
   ]
  },
  {
   "cell_type": "markdown",
   "id": "d144c0c3-7d59-4855-a943-d76485986ab5",
   "metadata": {},
   "source": [
    "Submit job to save query results to a table via Python [Writing query results  |  BigQuery  |  Google Cloud](https://cloud.google.com/bigquery/docs/writing-results#writing_query_results)"
   ]
  },
  {
   "cell_type": "code",
   "execution_count": 46,
   "id": "1d842527-ba01-4b69-8fbe-dea62bf47b87",
   "metadata": {},
   "outputs": [
    {
     "name": "stdout",
     "output_type": "stream",
     "text": [
      "Query results loaded to the table demos-vertex-ai.propensity.propensity\n"
     ]
    }
   ],
   "source": [
    "table_id = f\"{PROJECT_ID}.{DATANAME}.{DATANAME}\"\n",
    "\n",
    "job_config = bigquery.QueryJobConfig(destination=table_id,\n",
    "                                    write_disposition = 'WRITE_TRUNCATE')\n",
    "\n",
    "sql = \"\"\"\n",
    "  SELECT\n",
    "    fullVisitorId,\n",
    "    bounces,\n",
    "    time_on_site,\n",
    "    will_buy_on_return_visit\n",
    "  FROM (\n",
    "        # select features\n",
    "        SELECT\n",
    "          fullVisitorId,\n",
    "          IFNULL(totals.bounces, 0) AS bounces,\n",
    "          IFNULL(totals.timeOnSite, 0) AS time_on_site\n",
    "        FROM\n",
    "          `data-to-insights.ecommerce.web_analytics`\n",
    "        WHERE\n",
    "          totals.newVisits = 1\n",
    "        AND date BETWEEN '20160801' # train on first 9 months of data\n",
    "        AND '20170430'\n",
    "       )\n",
    "  JOIN (\n",
    "        SELECT\n",
    "          fullvisitorid,\n",
    "          IF (\n",
    "              COUNTIF (\n",
    "                       totals.transactions > 0\n",
    "                       AND totals.newVisits IS NULL\n",
    "                      ) > 0,\n",
    "              1,\n",
    "              0\n",
    "             ) AS will_buy_on_return_visit\n",
    "        FROM\n",
    "          `bigquery-public-data.google_analytics_sample.*`\n",
    "        GROUP BY\n",
    "          fullvisitorid\n",
    "       )\n",
    "  USING (fullVisitorId)\n",
    "  ORDER BY time_on_site DESC\n",
    "\"\"\"\n",
    "\n",
    "# Start the query, passing in the extra configuration.\n",
    "query_job = bq.query(sql, job_config=job_config)  # Make an API request.\n",
    "query_job.result()  # Wait for the job to complete.\n",
    "\n",
    "print(\"Query results loaded to the table {}\".format(table_id))"
   ]
  },
  {
   "cell_type": "markdown",
   "id": "68f2197e-a3b8-42f4-bccf-5e33f5c4f8c0",
   "metadata": {},
   "source": [
    "# Create AutoML Dataset (link to BigQuery table)"
   ]
  },
  {
   "cell_type": "code",
   "execution_count": 7,
   "id": "75de5882-b39b-4450-8599-78b919dc0a0f",
   "metadata": {},
   "outputs": [
    {
     "name": "stdout",
     "output_type": "stream",
     "text": [
      "INFO:google.cloud.aiplatform.datasets.dataset:Creating TabularDataset\n",
      "INFO:google.cloud.aiplatform.datasets.dataset:Create TabularDataset backing LRO: projects/746038361521/locations/us-central1/datasets/652586539364122624/operations/1682442524972548096\n",
      "INFO:google.cloud.aiplatform.datasets.dataset:TabularDataset created. Resource name: projects/746038361521/locations/us-central1/datasets/652586539364122624\n",
      "INFO:google.cloud.aiplatform.datasets.dataset:To use this TabularDataset in another session:\n",
      "INFO:google.cloud.aiplatform.datasets.dataset:ds = aiplatform.TabularDataset('projects/746038361521/locations/us-central1/datasets/652586539364122624')\n"
     ]
    }
   ],
   "source": [
    "dataset = aiplatform.TabularDataset.create(\n",
    "    display_name = f'{NOTEBOOK}_{DATANAME}_{TIMESTAMP}', \n",
    "    bq_source = f'bq://{PROJECT_ID}.{DATANAME}.{DATANAME}',\n",
    "    labels = {'notebook':f'{NOTEBOOK}'}\n",
    ")"
   ]
  },
  {
   "cell_type": "markdown",
   "id": "7b91a7ff-c617-4bb4-a35e-fb52d963c433",
   "metadata": {},
   "source": [
    "# Train Model with AutoML "
   ]
  },
  {
   "cell_type": "code",
   "execution_count": 15,
   "id": "2a6a1b8b-3eb7-4ea2-9e80-c5e6d7f85d32",
   "metadata": {},
   "outputs": [],
   "source": [
    "column_specs = list(set(dataset.column_names) - set(VAR_OMIT.split()) - set([VAR_TARGET, 'splits']))"
   ]
  },
  {
   "cell_type": "code",
   "execution_count": 16,
   "id": "ed312677-819f-40f6-8c08-51bc873a760e",
   "metadata": {},
   "outputs": [],
   "source": [
    "column_specs = dict.fromkeys(column_specs, 'auto')"
   ]
  },
  {
   "cell_type": "code",
   "execution_count": 17,
   "id": "a9775dd8-a9da-4c2d-b3c3-fbf7575c2d7d",
   "metadata": {},
   "outputs": [
    {
     "name": "stdout",
     "output_type": "stream",
     "text": [
      "{'bounces': 'auto', 'time_on_site': 'auto'}\n"
     ]
    }
   ],
   "source": [
    "print(column_specs)"
   ]
  },
  {
   "cell_type": "markdown",
   "id": "4eedbc11-fc6d-4e5a-b9b8-1c2d16e47ecd",
   "metadata": {},
   "source": [
    "Define a Job:\n",
    "\n",
    "* Consider Weighting\n",
    "* Model Type\n",
    "* Optimization Objective\n",
    "\n",
    "https://googleapis.dev/python/aiplatform/latest/aiplatform.html#google.cloud.aiplatform.AutoMLTabularTrainingJob"
   ]
  },
  {
   "cell_type": "code",
   "execution_count": 19,
   "id": "8d04fd9b-82cf-4927-9736-e5a0b2cc8839",
   "metadata": {},
   "outputs": [],
   "source": [
    "tabular_classification_job = aiplatform.AutoMLTabularTrainingJob(\n",
    "    display_name = f'{NOTEBOOK}_{DATANAME}_{TIMESTAMP}',\n",
    "    optimization_prediction_type = 'classification',\n",
    "    optimization_objective = 'maximize-au-prc',\n",
    "    column_specs = column_specs,\n",
    "    labels = {'notebook':f'{NOTEBOOK}'}\n",
    ")"
   ]
  },
  {
   "cell_type": "code",
   "execution_count": 20,
   "id": "364eea7f-6e9d-430c-88c8-6f8d938a25bb",
   "metadata": {},
   "outputs": [
    {
     "name": "stdout",
     "output_type": "stream",
     "text": [
      "INFO:google.cloud.aiplatform.training_jobs:No dataset split provided. The service will use a default split.\n",
      "INFO:google.cloud.aiplatform.training_jobs:View Training:\n",
      "https://console.cloud.google.com/ai/platform/locations/us-central1/training/6321304004072570880?project=746038361521\n",
      "INFO:google.cloud.aiplatform.training_jobs:AutoMLTabularTrainingJob projects/746038361521/locations/us-central1/trainingPipelines/6321304004072570880 current state:\n",
      "PipelineState.PIPELINE_STATE_RUNNING\n",
      "INFO:google.cloud.aiplatform.training_jobs:AutoMLTabularTrainingJob projects/746038361521/locations/us-central1/trainingPipelines/6321304004072570880 current state:\n",
      "PipelineState.PIPELINE_STATE_RUNNING\n",
      "INFO:google.cloud.aiplatform.training_jobs:AutoMLTabularTrainingJob projects/746038361521/locations/us-central1/trainingPipelines/6321304004072570880 current state:\n",
      "PipelineState.PIPELINE_STATE_RUNNING\n",
      "INFO:google.cloud.aiplatform.training_jobs:AutoMLTabularTrainingJob projects/746038361521/locations/us-central1/trainingPipelines/6321304004072570880 current state:\n",
      "PipelineState.PIPELINE_STATE_RUNNING\n",
      "INFO:google.cloud.aiplatform.training_jobs:AutoMLTabularTrainingJob projects/746038361521/locations/us-central1/trainingPipelines/6321304004072570880 current state:\n",
      "PipelineState.PIPELINE_STATE_RUNNING\n",
      "INFO:google.cloud.aiplatform.training_jobs:AutoMLTabularTrainingJob projects/746038361521/locations/us-central1/trainingPipelines/6321304004072570880 current state:\n",
      "PipelineState.PIPELINE_STATE_RUNNING\n",
      "INFO:google.cloud.aiplatform.training_jobs:AutoMLTabularTrainingJob projects/746038361521/locations/us-central1/trainingPipelines/6321304004072570880 current state:\n",
      "PipelineState.PIPELINE_STATE_RUNNING\n",
      "INFO:google.cloud.aiplatform.training_jobs:AutoMLTabularTrainingJob projects/746038361521/locations/us-central1/trainingPipelines/6321304004072570880 current state:\n",
      "PipelineState.PIPELINE_STATE_RUNNING\n",
      "INFO:google.cloud.aiplatform.training_jobs:AutoMLTabularTrainingJob projects/746038361521/locations/us-central1/trainingPipelines/6321304004072570880 current state:\n",
      "PipelineState.PIPELINE_STATE_RUNNING\n",
      "INFO:google.cloud.aiplatform.training_jobs:AutoMLTabularTrainingJob projects/746038361521/locations/us-central1/trainingPipelines/6321304004072570880 current state:\n",
      "PipelineState.PIPELINE_STATE_RUNNING\n",
      "INFO:google.cloud.aiplatform.training_jobs:AutoMLTabularTrainingJob projects/746038361521/locations/us-central1/trainingPipelines/6321304004072570880 current state:\n",
      "PipelineState.PIPELINE_STATE_RUNNING\n",
      "INFO:google.cloud.aiplatform.training_jobs:AutoMLTabularTrainingJob projects/746038361521/locations/us-central1/trainingPipelines/6321304004072570880 current state:\n",
      "PipelineState.PIPELINE_STATE_RUNNING\n",
      "INFO:google.cloud.aiplatform.training_jobs:AutoMLTabularTrainingJob projects/746038361521/locations/us-central1/trainingPipelines/6321304004072570880 current state:\n",
      "PipelineState.PIPELINE_STATE_RUNNING\n",
      "INFO:google.cloud.aiplatform.training_jobs:AutoMLTabularTrainingJob projects/746038361521/locations/us-central1/trainingPipelines/6321304004072570880 current state:\n",
      "PipelineState.PIPELINE_STATE_RUNNING\n",
      "INFO:google.cloud.aiplatform.training_jobs:AutoMLTabularTrainingJob projects/746038361521/locations/us-central1/trainingPipelines/6321304004072570880 current state:\n",
      "PipelineState.PIPELINE_STATE_RUNNING\n",
      "INFO:google.cloud.aiplatform.training_jobs:AutoMLTabularTrainingJob projects/746038361521/locations/us-central1/trainingPipelines/6321304004072570880 current state:\n",
      "PipelineState.PIPELINE_STATE_RUNNING\n",
      "INFO:google.cloud.aiplatform.training_jobs:AutoMLTabularTrainingJob projects/746038361521/locations/us-central1/trainingPipelines/6321304004072570880 current state:\n",
      "PipelineState.PIPELINE_STATE_RUNNING\n",
      "INFO:google.cloud.aiplatform.training_jobs:AutoMLTabularTrainingJob projects/746038361521/locations/us-central1/trainingPipelines/6321304004072570880 current state:\n",
      "PipelineState.PIPELINE_STATE_RUNNING\n",
      "INFO:google.cloud.aiplatform.training_jobs:AutoMLTabularTrainingJob projects/746038361521/locations/us-central1/trainingPipelines/6321304004072570880 current state:\n",
      "PipelineState.PIPELINE_STATE_RUNNING\n",
      "INFO:google.cloud.aiplatform.training_jobs:AutoMLTabularTrainingJob projects/746038361521/locations/us-central1/trainingPipelines/6321304004072570880 current state:\n",
      "PipelineState.PIPELINE_STATE_RUNNING\n",
      "INFO:google.cloud.aiplatform.training_jobs:AutoMLTabularTrainingJob projects/746038361521/locations/us-central1/trainingPipelines/6321304004072570880 current state:\n",
      "PipelineState.PIPELINE_STATE_RUNNING\n",
      "INFO:google.cloud.aiplatform.training_jobs:AutoMLTabularTrainingJob projects/746038361521/locations/us-central1/trainingPipelines/6321304004072570880 current state:\n",
      "PipelineState.PIPELINE_STATE_RUNNING\n",
      "INFO:google.cloud.aiplatform.training_jobs:AutoMLTabularTrainingJob projects/746038361521/locations/us-central1/trainingPipelines/6321304004072570880 current state:\n",
      "PipelineState.PIPELINE_STATE_RUNNING\n",
      "INFO:google.cloud.aiplatform.training_jobs:AutoMLTabularTrainingJob projects/746038361521/locations/us-central1/trainingPipelines/6321304004072570880 current state:\n",
      "PipelineState.PIPELINE_STATE_RUNNING\n",
      "INFO:google.cloud.aiplatform.training_jobs:AutoMLTabularTrainingJob projects/746038361521/locations/us-central1/trainingPipelines/6321304004072570880 current state:\n",
      "PipelineState.PIPELINE_STATE_RUNNING\n",
      "INFO:google.cloud.aiplatform.training_jobs:AutoMLTabularTrainingJob projects/746038361521/locations/us-central1/trainingPipelines/6321304004072570880 current state:\n",
      "PipelineState.PIPELINE_STATE_RUNNING\n",
      "INFO:google.cloud.aiplatform.training_jobs:AutoMLTabularTrainingJob projects/746038361521/locations/us-central1/trainingPipelines/6321304004072570880 current state:\n",
      "PipelineState.PIPELINE_STATE_RUNNING\n",
      "INFO:google.cloud.aiplatform.training_jobs:AutoMLTabularTrainingJob projects/746038361521/locations/us-central1/trainingPipelines/6321304004072570880 current state:\n",
      "PipelineState.PIPELINE_STATE_RUNNING\n",
      "INFO:google.cloud.aiplatform.training_jobs:AutoMLTabularTrainingJob projects/746038361521/locations/us-central1/trainingPipelines/6321304004072570880 current state:\n",
      "PipelineState.PIPELINE_STATE_RUNNING\n",
      "INFO:google.cloud.aiplatform.training_jobs:AutoMLTabularTrainingJob projects/746038361521/locations/us-central1/trainingPipelines/6321304004072570880 current state:\n",
      "PipelineState.PIPELINE_STATE_RUNNING\n",
      "INFO:google.cloud.aiplatform.training_jobs:AutoMLTabularTrainingJob run completed. Resource name: projects/746038361521/locations/us-central1/trainingPipelines/6321304004072570880\n",
      "INFO:google.cloud.aiplatform.training_jobs:Model available at projects/746038361521/locations/us-central1/models/298666940522561536\n"
     ]
    }
   ],
   "source": [
    "model = tabular_classification_job.run(\n",
    "    dataset = dataset,\n",
    "    target_column = VAR_TARGET,\n",
    "    # predefined_split_column_name = 'splits',\n",
    "    #    training_fraction_split = 0.8,\n",
    "    #    validation_fraction_split = 0.1,\n",
    "    #    test_fraction_split = 0.1,\n",
    "    budget_milli_node_hours = 1000,\n",
    "    model_display_name = f'{NOTEBOOK}_{DATANAME}_{TIMESTAMP}',\n",
    "    disable_early_stopping = False,\n",
    "    model_labels = {'notebook':f'{NOTEBOOK}'}\n",
    ")"
   ]
  },
  {
   "cell_type": "markdown",
   "id": "ccf7bac2-f05e-4ef4-b6a0-3861398d90e6",
   "metadata": {},
   "source": [
    "# Evaluation \n",
    "One can evaluate the model in 2 ways \n",
    "\n",
    "1. within the Cloud Console under [Vertex AI > Models](https://console.cloud.google.com/vertex-ai/models) \n",
    "2. via the API \n"
   ]
  },
  {
   "cell_type": "markdown",
   "id": "f33b5520-b0d4-4b22-aba6-4f9a467bd6a3",
   "metadata": {},
   "source": [
    "Setup a model client for the model created by this notebook:"
   ]
  },
  {
   "cell_type": "code",
   "execution_count": 13,
   "id": "1e98543b-609f-4a94-9313-2d14aaa0d11c",
   "metadata": {},
   "outputs": [
    {
     "data": {
      "text/plain": [
       "'projects/746038361521/locations/us-central1/models/298666940522561536'"
      ]
     },
     "execution_count": 13,
     "metadata": {},
     "output_type": "execute_result"
    }
   ],
   "source": [
    "# model = aiplatform.Model('projects/746038361521/locations/us-central1/models/298666940522561536')\n",
    "model.resource_name"
   ]
  },
  {
   "cell_type": "code",
   "execution_count": 14,
   "id": "94974cb8-7633-4c28-96bf-b235b47f62b5",
   "metadata": {},
   "outputs": [],
   "source": [
    "model_client = aiplatform.gapic.ModelServiceClient(\n",
    "    client_options = {\n",
    "        'api_endpoint' : f'{REGION}-aiplatform.googleapis.com'\n",
    "    }\n",
    ")"
   ]
  },
  {
   "cell_type": "markdown",
   "id": "ed8234b3-4050-4b21-96ea-685eebc2dffc",
   "metadata": {},
   "source": [
    "Retrives the aggregate model evalution metrics for the model as a whole. First, use `.list_model_evaluations` to retrieve the evaluation id, then use `.get_model_evaluation` for the evaluation id:"
   ]
  },
  {
   "cell_type": "code",
   "execution_count": 15,
   "id": "1c79a74c-30e8-4ce5-9077-f0d885fe6906",
   "metadata": {},
   "outputs": [],
   "source": [
    "evaluations = model_client.list_model_evaluations(parent = model.resource_name)\n",
    "evals = iter(evaluations)\n",
    "eval_id = next(evals).name\n",
    "geteval = model_client.get_model_evaluation(name = eval_id)"
   ]
  },
  {
   "cell_type": "code",
   "execution_count": 16,
   "id": "85d7a00f-7ccb-40b5-adf0-b2c4c5539401",
   "metadata": {},
   "outputs": [
    {
     "data": {
      "text/plain": [
       "0.99612117"
      ]
     },
     "execution_count": 16,
     "metadata": {},
     "output_type": "execute_result"
    }
   ],
   "source": [
    "geteval.metrics['auPrc']"
   ]
  },
  {
   "cell_type": "code",
   "execution_count": 17,
   "id": "be04185b-cbe3-4432-ab28-12311afff2da",
   "metadata": {},
   "outputs": [
    {
     "name": "stdout",
     "output_type": "stream",
     "text": [
      "True Label =  0  has Predicted labels =  [55224.0, 0.0]\n",
      "True Label =  1  has Predicted labels =  [384.0, 0.0]\n"
     ]
    }
   ],
   "source": [
    "for i in range(len(geteval.metrics['confusionMatrix']['annotationSpecs'])):\n",
    "    print('True Label = ', \n",
    "          geteval.metrics['confusionMatrix']['annotationSpecs'][i]['displayName'], \n",
    "          ' has Predicted labels = ', \n",
    "          geteval.metrics['confusionMatrix']['rows'][i])\n"
   ]
  },
  {
   "cell_type": "code",
   "execution_count": 18,
   "id": "caf60d54-098d-4121-b205-13e47e5a1b4a",
   "metadata": {},
   "outputs": [
    {
     "name": "stdout",
     "output_type": "stream",
     "text": [
      "Label =  0 has auPrc =  0.9971852\n",
      "Label =  1 has auPrc =  0.036081985\n"
     ]
    }
   ],
   "source": [
    "slices = model_client.list_model_evaluation_slices(parent = eval_id)\n",
    "for slice in slices:\n",
    "    print('Label = ', slice.slice_.value, 'has auPrc = ', slice.metrics['auPrc'])"
   ]
  },
  {
   "cell_type": "markdown",
   "id": "0452eccc-e121-4fa7-955a-3f7d18950c2f",
   "metadata": {},
   "source": [
    "# Endpoint and Deployment"
   ]
  },
  {
   "cell_type": "code",
   "execution_count": 34,
   "id": "2ef24633-c142-4ac6-8017-922bb2d8eb85",
   "metadata": {},
   "outputs": [
    {
     "name": "stdout",
     "output_type": "stream",
     "text": [
      "INFO:google.cloud.aiplatform.models:Creating Endpoint\n",
      "INFO:google.cloud.aiplatform.models:Create Endpoint backing LRO: projects/746038361521/locations/us-central1/endpoints/6232603652280811520/operations/822817946098204672\n",
      "INFO:google.cloud.aiplatform.models:Endpoint created. Resource name: projects/746038361521/locations/us-central1/endpoints/6232603652280811520\n",
      "INFO:google.cloud.aiplatform.models:To use this Endpoint in another session:\n",
      "INFO:google.cloud.aiplatform.models:endpoint = aiplatform.Endpoint('projects/746038361521/locations/us-central1/endpoints/6232603652280811520')\n"
     ]
    }
   ],
   "source": [
    "# endpoint = aiplatform.Endpoint.create(\n",
    "#     display_name = f'{NOTEBOOK}_{DATANAME}_{TIMESTAMP}',\n",
    "#     labels = {'notebook':f'{NOTEBOOK}'}\n",
    "# )"
   ]
  },
  {
   "cell_type": "code",
   "execution_count": null,
   "id": "bffe5ca4-0520-49b6-9ea6-4049b4190ecb",
   "metadata": {},
   "outputs": [
    {
     "name": "stdout",
     "output_type": "stream",
     "text": [
      "INFO:google.cloud.aiplatform.models:Deploying Model projects/746038361521/locations/us-central1/models/298666940522561536 to Endpoint : projects/746038361521/locations/us-central1/endpoints/6232603652280811520\n",
      "INFO:google.cloud.aiplatform.models:Deploy Endpoint model backing LRO: projects/746038361521/locations/us-central1/endpoints/6232603652280811520/operations/8848232482072428544\n"
     ]
    }
   ],
   "source": [
    "# endpoint.deploy(\n",
    "#     model = model,\n",
    "#     deployed_model_display_name = f'{NOTEBOOK}_{DATANAME}_{TIMESTAMP}',\n",
    "#     traffic_percentage = 100,\n",
    "#     machine_type = DEPLOY_COMPUTE,\n",
    "#     min_replica_count = 1,\n",
    "#     max_replica_count = 1\n",
    "# )"
   ]
  },
  {
   "cell_type": "markdown",
   "id": "d3b65d1c-79cf-410c-99d8-483502820703",
   "metadata": {},
   "source": [
    "# Batch Prediction"
   ]
  },
  {
   "cell_type": "markdown",
   "id": "e6eecce1-c87d-4509-bf6c-72f69d6c5206",
   "metadata": {},
   "source": []
  },
  {
   "cell_type": "markdown",
   "id": "35d466aa-3df4-485d-84e0-9a96b4ba868c",
   "metadata": {},
   "source": [
    "## Create sample batch input (BigQuery table)\n",
    "From original dataset for a simplified demonstration"
   ]
  },
  {
   "cell_type": "code",
   "execution_count": 30,
   "id": "a3d634b5-9aa8-45bc-892f-b070bb98699c",
   "metadata": {
    "tags": []
   },
   "outputs": [
    {
     "name": "stdout",
     "output_type": "stream",
     "text": [
      "Query results loaded to the table demos-vertex-ai.propensity.batch_01\n"
     ]
    }
   ],
   "source": [
    "table_id = f\"{PROJECT_ID}.{DATANAME}.batch_01\"\n",
    "\n",
    "job_config = bigquery.QueryJobConfig(destination=table_id,\n",
    "                                    write_disposition = 'WRITE_TRUNCATE')\n",
    "\n",
    "sql = f\"\"\"\n",
    "  SELECT * FROM {PROJECT_ID}.{DATANAME}.{DATANAME} WHERE RAND() < 10/555987\n",
    "\"\"\"\n",
    "\n",
    "# Start the query, passing in the extra configuration.\n",
    "query_job = bq.query(sql, job_config=job_config)  # Make an API request.\n",
    "query_job.result()  # Wait for the job to complete.\n",
    "\n",
    "print(\"Query results loaded to the table {}\".format(table_id))"
   ]
  },
  {
   "cell_type": "markdown",
   "id": "9f6b9a4d-509e-4594-b582-d01dbc3c26a4",
   "metadata": {},
   "source": [
    "## Batch Prediction from BigQuery source to BigQuery Destination, with Explanations"
   ]
  },
  {
   "cell_type": "code",
   "execution_count": 28,
   "id": "5075f7cc-65fe-4796-b03a-4b0879442edd",
   "metadata": {},
   "outputs": [
    {
     "name": "stdout",
     "output_type": "stream",
     "text": [
      "INFO:google.cloud.aiplatform.jobs:Creating BatchPredictionJob\n",
      "INFO:google.cloud.aiplatform.jobs:BatchPredictionJob created. Resource name: projects/746038361521/locations/us-central1/batchPredictionJobs/4379795167838732288\n",
      "INFO:google.cloud.aiplatform.jobs:To use this BatchPredictionJob in another session:\n",
      "INFO:google.cloud.aiplatform.jobs:bpj = aiplatform.BatchPredictionJob('projects/746038361521/locations/us-central1/batchPredictionJobs/4379795167838732288')\n",
      "INFO:google.cloud.aiplatform.jobs:View Batch Prediction Job:\n",
      "https://console.cloud.google.com/ai/platform/locations/us-central1/batch-predictions/4379795167838732288?project=746038361521\n",
      "INFO:google.cloud.aiplatform.jobs:BatchPredictionJob projects/746038361521/locations/us-central1/batchPredictionJobs/4379795167838732288 current state:\n",
      "JobState.JOB_STATE_PENDING\n",
      "INFO:google.cloud.aiplatform.jobs:BatchPredictionJob projects/746038361521/locations/us-central1/batchPredictionJobs/4379795167838732288 current state:\n",
      "JobState.JOB_STATE_RUNNING\n",
      "INFO:google.cloud.aiplatform.jobs:BatchPredictionJob projects/746038361521/locations/us-central1/batchPredictionJobs/4379795167838732288 current state:\n",
      "JobState.JOB_STATE_RUNNING\n",
      "INFO:google.cloud.aiplatform.jobs:BatchPredictionJob projects/746038361521/locations/us-central1/batchPredictionJobs/4379795167838732288 current state:\n",
      "JobState.JOB_STATE_RUNNING\n",
      "INFO:google.cloud.aiplatform.jobs:BatchPredictionJob projects/746038361521/locations/us-central1/batchPredictionJobs/4379795167838732288 current state:\n",
      "JobState.JOB_STATE_RUNNING\n",
      "INFO:google.cloud.aiplatform.jobs:BatchPredictionJob projects/746038361521/locations/us-central1/batchPredictionJobs/4379795167838732288 current state:\n",
      "JobState.JOB_STATE_RUNNING\n",
      "INFO:google.cloud.aiplatform.jobs:BatchPredictionJob projects/746038361521/locations/us-central1/batchPredictionJobs/4379795167838732288 current state:\n",
      "JobState.JOB_STATE_RUNNING\n",
      "INFO:google.cloud.aiplatform.jobs:BatchPredictionJob projects/746038361521/locations/us-central1/batchPredictionJobs/4379795167838732288 current state:\n",
      "JobState.JOB_STATE_RUNNING\n",
      "INFO:google.cloud.aiplatform.jobs:BatchPredictionJob projects/746038361521/locations/us-central1/batchPredictionJobs/4379795167838732288 current state:\n",
      "JobState.JOB_STATE_RUNNING\n",
      "INFO:google.cloud.aiplatform.jobs:BatchPredictionJob projects/746038361521/locations/us-central1/batchPredictionJobs/4379795167838732288 current state:\n",
      "JobState.JOB_STATE_RUNNING\n",
      "INFO:google.cloud.aiplatform.jobs:BatchPredictionJob projects/746038361521/locations/us-central1/batchPredictionJobs/4379795167838732288 current state:\n",
      "JobState.JOB_STATE_SUCCEEDED\n",
      "INFO:google.cloud.aiplatform.jobs:BatchPredictionJob run completed. Resource name: projects/746038361521/locations/us-central1/batchPredictionJobs/4379795167838732288\n"
     ]
    }
   ],
   "source": [
    "batch = aiplatform.BatchPredictionJob.create(\n",
    "    job_display_name = f'{NOTEBOOK}_{DATANAME}_{TIMESTAMP}',\n",
    "    model_name = model.name,\n",
    "    instances_format = \"bigquery\",\n",
    "    predictions_format = \"bigquery\",\n",
    "    bigquery_source = f'bq://{PROJECT_ID}.{DATANAME}.batch_01',\n",
    "    bigquery_destination_prefix = f\"{PROJECT_ID}\",\n",
    "    generate_explanation = True,\n",
    "    labels = {'notebook':f'{NOTEBOOK}'}\n",
    ")"
   ]
  },
  {
   "cell_type": "code",
   "execution_count": null,
   "id": "36580854-ebf6-4ef3-8033-44f77564f514",
   "metadata": {},
   "outputs": [],
   "source": []
  }
 ],
 "metadata": {
  "environment": {
   "kernel": "python3",
   "name": "managed-notebooks.m90",
   "type": "gcloud",
   "uri": "gcr.io/deeplearning-platform-release/base-cu110:latest"
  },
  "kernelspec": {
   "display_name": "Python (Local)",
   "language": "python",
   "name": "local-base"
  },
  "language_info": {
   "codemirror_mode": {
    "name": "ipython",
    "version": 3
   },
   "file_extension": ".py",
   "mimetype": "text/x-python",
   "name": "python",
   "nbconvert_exporter": "python",
   "pygments_lexer": "ipython3",
   "version": "3.7.12"
  }
 },
 "nbformat": 4,
 "nbformat_minor": 5
}
